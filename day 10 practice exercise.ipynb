{
 "cells": [
  {
   "cell_type": "code",
   "execution_count": 12,
   "id": "396cc81a",
   "metadata": {},
   "outputs": [
    {
     "name": "stdout",
     "output_type": "stream",
     "text": [
      "[0, 1, 2, 3, 4, 5]\n"
     ]
    }
   ],
   "source": [
    "import numpy as np\n",
    "import pandas as pd\n",
    "\n",
    "# Create the Series\n",
    "first_series = pd.Series(list('abcdef'))\n",
    "index_list = first_series.index.tolist()\n",
    "print(index_list)\n"
   ]
  },
  {
   "cell_type": "code",
   "execution_count": 10,
   "id": "f4609edc",
   "metadata": {},
   "outputs": [
    {
     "name": "stdout",
     "output_type": "stream",
     "text": [
      "Number of movies: 244914\n"
     ]
    }
   ],
   "source": [
    "import pandas as pd\n",
    "\n",
    "# Read\n",
    "df = pd.read_csv('titles.csv')\n",
    "number_of_movies = len(df)\n",
    "print(\"Number of movies:\",number_of_movies)\n"
   ]
  },
  {
   "cell_type": "code",
   "execution_count": 13,
   "id": "ea74df76",
   "metadata": {},
   "outputs": [
    {
     "name": "stdout",
     "output_type": "stream",
     "text": [
      "                     title  year\n",
      "193222          Miss Jerry  1894\n",
      "51388   The Startled Lover  1898\n"
     ]
    }
   ],
   "source": [
    "import pandas as pd\n",
    "\n",
    "# Read\n",
    "df = pd.read_csv('titles.csv')\n",
    "df = df.sort_values(by=['year'], ascending=True)\n",
    "first_two_films = df.head(2)\n",
    "print(first_two_films)\n"
   ]
  },
  {
   "cell_type": "code",
   "execution_count": 14,
   "id": "928591ba",
   "metadata": {},
   "outputs": [
    {
     "name": "stdout",
     "output_type": "stream",
     "text": [
      "Number of movies with the title 'Hamlet': 20\n"
     ]
    }
   ],
   "source": [
    "import pandas as pd\n",
    "\n",
    "# Read\n",
    "titles_df = pd.read_csv('titles.csv')\n",
    "hamlet_movies = titles_df[titles_df['title'] == 'Hamlet']\n",
    "num_hamlet_movies = len(hamlet_movies)\n",
    "\n",
    "print(\"Number of movies with the title 'Hamlet':\", num_hamlet_movies)\n"
   ]
  },
  {
   "cell_type": "code",
   "execution_count": 15,
   "id": "c94b9a6d",
   "metadata": {},
   "outputs": [
    {
     "name": "stdout",
     "output_type": "stream",
     "text": [
      "Number of movies with the title 'North by Northwest': 1\n"
     ]
    }
   ],
   "source": [
    "import pandas as pd\n",
    "\n",
    "# Read \n",
    "titles_df = pd.read_csv('titles.csv')\n",
    "north_by_northwest_movies = titles_df[titles_df['title'] == 'North by Northwest']\n",
    "num_north_by_northwest_movies = len(north_by_northwest_movies)\n",
    "print(\"Number of movies with the title 'North by Northwest':\", num_north_by_northwest_movies)\n"
   ]
  },
  {
   "cell_type": "code",
   "execution_count": 18,
   "id": "cbffdd9e",
   "metadata": {},
   "outputs": [
    {
     "name": "stdout",
     "output_type": "stream",
     "text": [
      "The first movie titled 'Hamlet' was made in: 1910\n"
     ]
    }
   ],
   "source": [
    "import pandas as pd\n",
    "\n",
    "# Read\n",
    "titles_df = pd.read_csv('titles.csv')\n",
    "hamlet_movies = titles_df[titles_df['title'] == 'Hamlet']\n",
    "hamlet_movies = hamlet_movies.sort_values(by='year')\n",
    "first_hamlet_movie = hamlet_movies.iloc[0]\n",
    "first_hamlet_movie_year = first_hamlet_movie['year']\n",
    "print(\"The first movie titled 'Hamlet' was made in:\", first_hamlet_movie_year)\n"
   ]
  },
  {
   "cell_type": "code",
   "execution_count": 19,
   "id": "1767e2c5",
   "metadata": {},
   "outputs": [
    {
     "name": "stdout",
     "output_type": "stream",
     "text": [
      "1918 Treasure Island\n",
      "1920 Treasure Island\n",
      "1934 Treasure Island\n",
      "1950 Treasure Island\n",
      "1972 Treasure Island\n",
      "1973 Treasure Island\n",
      "1985 Treasure Island\n",
      "1999 Treasure Island\n"
     ]
    }
   ],
   "source": [
    "import pandas as pd\n",
    "\n",
    "titles_df = pd.read_csv('titles.csv')\n",
    "\n",
    "treasure_island_movies = titles_df[titles_df['title'] == 'Treasure Island']\n",
    "\n",
    "treasure_island_movies = treasure_island_movies.sort_values(by='year')\n",
    "\n",
    "for index, movie in treasure_island_movies.iterrows():\n",
    "    print(movie['year'], movie['title'])\n"
   ]
  },
  {
   "cell_type": "code",
   "execution_count": 20,
   "id": "e348f689",
   "metadata": {},
   "outputs": [
    {
     "name": "stdout",
     "output_type": "stream",
     "text": [
      "Number of movies made in the year 1950: 1113\n"
     ]
    }
   ],
   "source": [
    "import pandas as pd\n",
    "\n",
    "# Read the CSV file into a Pandas dataframe (if not already done)\n",
    "titles_df = pd.read_csv('titles.csv')\n",
    "\n",
    "# Filter the dataframe to include only movies released in the year 1950\n",
    "movies_1950 = titles_df[titles_df['year'] == 1950]\n",
    "\n",
    "# Get the count of movies made in 1950\n",
    "num_movies_1950 = len(movies_1950)\n",
    "\n",
    "print(\"Number of movies made in the year 1950:\", num_movies_1950)\n"
   ]
  },
  {
   "cell_type": "code",
   "execution_count": 21,
   "id": "74ce7d89",
   "metadata": {},
   "outputs": [
    {
     "name": "stdout",
     "output_type": "stream",
     "text": [
      "Number of movies made in the year 1960: 1549\n"
     ]
    }
   ],
   "source": [
    "import pandas as pd\n",
    "\n",
    "# Read the CSV file into a Pandas dataframe (if not already done)\n",
    "titles_df = pd.read_csv('titles.csv')\n",
    "\n",
    "# Filter the dataframe to include only movies released in the year 1960\n",
    "movies_1960 = titles_df[titles_df['year'] == 1960]\n",
    "\n",
    "# Get the count of movies made in 1960\n",
    "num_movies_1960 = len(movies_1960)\n",
    "\n",
    "print(\"Number of movies made in the year 1960:\", num_movies_1960)\n"
   ]
  },
  {
   "cell_type": "code",
   "execution_count": 22,
   "id": "d51f6b41",
   "metadata": {},
   "outputs": [
    {
     "name": "stdout",
     "output_type": "stream",
     "text": [
      "Number of movies made from 1950 through 1959: 12934\n"
     ]
    }
   ],
   "source": [
    "import pandas as pd\n",
    "\n",
    "# Read the CSV file into a Pandas dataframe (if not already done)\n",
    "titles_df = pd.read_csv('titles.csv')\n",
    "\n",
    "# Filter the dataframe to include only movies released between 1950 and 1959 (inclusive)\n",
    "movies_1950s = titles_df[(titles_df['year'] >= 1950) & (titles_df['year'] <= 1959)]\n",
    "\n",
    "# Get the count of movies made from 1950 through 1959\n",
    "num_movies_1950s = len(movies_1950s)\n",
    "\n",
    "print(\"Number of movies made from 1950 through 1959:\", num_movies_1950s)\n"
   ]
  },
  {
   "cell_type": "code",
   "execution_count": 23,
   "id": "2dc14d21",
   "metadata": {},
   "outputs": [
    {
     "name": "stdout",
     "output_type": "stream",
     "text": [
      "Years in which a movie titled 'Batman' has been released: [1943 1989]\n"
     ]
    }
   ],
   "source": [
    "import pandas as pd\n",
    "\n",
    "# Read the CSV file into a Pandas dataframe (if not already done)\n",
    "titles_df = pd.read_csv('titles.csv')\n",
    "\n",
    "# Filter the dataframe to include only movies with the title \"Batman\"\n",
    "batman_movies = titles_df[titles_df['title'] == 'Batman']\n",
    "\n",
    "# Get the unique release years for movies titled \"Batman\"\n",
    "batman_release_years = batman_movies['year'].unique()\n",
    "\n",
    "print(\"Years in which a movie titled 'Batman' has been released:\", batman_release_years)\n"
   ]
  },
  {
   "cell_type": "code",
   "execution_count": 24,
   "id": "5f7235d0",
   "metadata": {},
   "outputs": [
    {
     "name": "stdout",
     "output_type": "stream",
     "text": [
      "Number of roles in the movie 'Inception': 56\n"
     ]
    }
   ],
   "source": [
    "import pandas as pd\n",
    "\n",
    "# Read the CSV file containing cast information into a Pandas dataframe (if not already done)\n",
    "cast_df = pd.read_csv('cast.csv')\n",
    "\n",
    "# Filter the dataframe to include only the cast of the movie \"Inception\"\n",
    "inception_cast = cast_df[cast_df['title'] == 'Inception']\n",
    "\n",
    "# Count the number of unique roles in the movie \"Inception\"\n",
    "num_roles_in_inception = len(inception_cast['character'].unique())\n",
    "\n",
    "print(\"Number of roles in the movie 'Inception':\", num_roles_in_inception)\n"
   ]
  },
  {
   "cell_type": "code",
   "execution_count": 25,
   "id": "877fcc3c",
   "metadata": {},
   "outputs": [
    {
     "name": "stdout",
     "output_type": "stream",
     "text": [
      "Number of roles in the movie 'Inception' not ranked by 'n' value: 27\n"
     ]
    }
   ],
   "source": [
    "import pandas as pd\n",
    "\n",
    "# Read the CSV file containing cast information into a Pandas dataframe (if not already done)\n",
    "cast_df = pd.read_csv('cast.csv')\n",
    "\n",
    "# Filter the dataframe to include only the cast of the movie \"Inception\" without an \"n\" value\n",
    "inception_cast_no_n = cast_df[(cast_df['title'] == 'Inception') & cast_df['n'].isnull()]\n",
    "\n",
    "# Count the number of roles in the movie \"Inception\" that are not ranked by an \"n\" value\n",
    "num_roles_in_inception_no_n = len(inception_cast_no_n)\n",
    "\n",
    "print(\"Number of roles in the movie 'Inception' not ranked by 'n' value:\", num_roles_in_inception_no_n)\n"
   ]
  },
  {
   "cell_type": "code",
   "execution_count": 26,
   "id": "a6181693",
   "metadata": {},
   "outputs": [
    {
     "name": "stdout",
     "output_type": "stream",
     "text": [
      "Number of roles in the movie 'Inception' with an 'n' value: 51\n"
     ]
    }
   ],
   "source": [
    "import pandas as pd\n",
    "\n",
    "# Read the CSV file containing cast information into a Pandas dataframe (if not already done)\n",
    "cast_df = pd.read_csv('cast.csv')\n",
    "\n",
    "# Filter the dataframe to include only the cast of the movie \"Inception\" with an \"n\" value\n",
    "inception_cast_with_n = cast_df[(cast_df['title'] == 'Inception') & cast_df['n'].notnull()]\n",
    "\n",
    "# Count the number of roles in the movie \"Inception\" that received an \"n\" value\n",
    "num_roles_in_inception_with_n = len(inception_cast_with_n)\n",
    "\n",
    "print(\"Number of roles in the movie 'Inception' with an 'n' value:\", num_roles_in_inception_with_n)\n"
   ]
  },
  {
   "cell_type": "code",
   "execution_count": 27,
   "id": "3badd44b",
   "metadata": {},
   "outputs": [
    {
     "name": "stdout",
     "output_type": "stream",
     "text": [
      "            n                  name                    character\n",
      "871426    1.0            Cary Grant           Roger O. Thornhill\n",
      "3518333   2.0       Eva Marie Saint                  Eve Kendall\n",
      "1457165   3.0           James Mason              Phillip Vandamm\n",
      "3157232   4.0   Jessie Royce Landis              Clara Thornhill\n",
      "356707    5.0        Leo G. Carroll                The Professor\n",
      "3048272   6.0  Josephine Hutchinson                Mrs. Townsend\n",
      "1695173   7.0           Philip Ober              Lester Townsend\n",
      "1275337   8.0         Martin Landau                      Leonard\n",
      "2447081   9.0         Adam Williams                     Valerian\n",
      "1811387  10.0          Edward Platt              Victor Larrabee\n",
      "665768   11.0     Robert Ellenstein                        Licht\n",
      "2295714  12.0          Les Tremayne                   Auctioneer\n",
      "464736   13.0       Philip Coolidge                    Dr. Cross\n",
      "1508344  14.0         Patrick McVey               Sergeant Flamm\n",
      "206471   15.0          Edward Binns               Captain Junket\n",
      "1384780  16.0             Ken Lynch  Charley - Chicago Policeman\n"
     ]
    }
   ],
   "source": [
    "import pandas as pd\n",
    "\n",
    "# Read the CSV file containing cast information into a Pandas dataframe (if not already done)\n",
    "cast_df = pd.read_csv('cast.csv')\n",
    "\n",
    "# Filter the dataframe to include only the cast of the movie \"North by Northwest\" with numeric \"n\" values\n",
    "north_by_northwest_cast = cast_df[(cast_df['title'] == 'North by Northwest') & cast_df['n'].notnull()]\n",
    "\n",
    "# Sort the filtered dataframe by the \"n\" values in ascending order\n",
    "north_by_northwest_cast_sorted = north_by_northwest_cast.sort_values(by='n')\n",
    "\n",
    "# Display the cast of \"North by Northwest\" in their correct \"n\"-value order\n",
    "print(north_by_northwest_cast_sorted[['n', 'name', 'character']])\n"
   ]
  },
  {
   "cell_type": "code",
   "execution_count": 28,
   "id": "6f8031a9",
   "metadata": {},
   "outputs": [
    {
     "name": "stdout",
     "output_type": "stream",
     "text": [
      "           n                name                   character\n",
      "1705394  1.0    Laurence Olivier                 Andrew Wyke\n",
      "326773   2.0       Michael Caine                 Milo Tindle\n",
      "373876   3.0      Alec Cawthorne           Inspector Doppler\n",
      "1465483  4.0  John (II) Matthews  Detective Sergeant Tarrant\n",
      "2724553  5.0  Eve (III) Channing             Marguerite Wyke\n",
      "1448690  6.0        Teddy Martin      Police Constable Higgs\n"
     ]
    }
   ],
   "source": [
    "import pandas as pd\n",
    "\n",
    "# Read the CSV file containing cast information into a Pandas dataframe (if not already done)\n",
    "cast_df = pd.read_csv('cast.csv')\n",
    "\n",
    "# Filter the dataframe to include only the cast of the movie \"Sleuth\" released in 1972\n",
    "sleuth_1972_cast = cast_df[(cast_df['title'] == 'Sleuth') & (cast_df['year'] == 1972)]\n",
    "\n",
    "# Sort the filtered dataframe by the \"n\" values in ascending order\n",
    "sleuth_1972_cast_sorted = sleuth_1972_cast.sort_values(by='n')\n",
    "\n",
    "# Display the entire cast of the 1972 film \"Sleuth\" in \"n\"-value order\n",
    "print(sleuth_1972_cast_sorted[['n', 'name', 'character']])\n"
   ]
  },
  {
   "cell_type": "code",
   "execution_count": 29,
   "id": "475312cf",
   "metadata": {},
   "outputs": [
    {
     "name": "stdout",
     "output_type": "stream",
     "text": [
      "           n                 name          character\n",
      "326774   1.0        Michael Caine             Andrew\n",
      "1293634  2.0             Jude Law               Milo\n",
      "1805907  3.0        Harold Pinter        Man on T.V.\n",
      "260242   NaN      Kenneth Branagh  Other Man on T.V.\n",
      "373877   NaN  Alec (II) Cawthorne  Inspector Doppler\n",
      "2724552  NaN    Eve (II) Channing    Marguerite Wyke\n",
      "3370424  NaN    Carmel O'Sullivan             Maggie\n"
     ]
    }
   ],
   "source": [
    "import pandas as pd\n",
    "\n",
    "# Read the CSV file containing cast information into a Pandas dataframe (if not already done)\n",
    "cast_df = pd.read_csv('cast.csv')\n",
    "\n",
    "# Filter the dataframe to include only the cast of the 2007 version of the movie \"Sleuth\"\n",
    "sleuth_2007_cast = cast_df[(cast_df['title'] == 'Sleuth') & (cast_df['year'] == 2007)]\n",
    "\n",
    "# Sort the filtered dataframe by the \"n\" values in ascending order\n",
    "sleuth_2007_cast_sorted = sleuth_2007_cast.sort_values(by='n')\n",
    "\n",
    "# Display the entire cast of the 2007 version of \"Sleuth\" in \"n\"-value order\n",
    "print(sleuth_2007_cast_sorted[['n', 'name', 'character']])\n"
   ]
  },
  {
   "cell_type": "code",
   "execution_count": 30,
   "id": "c8a9f4b5",
   "metadata": {},
   "outputs": [
    {
     "name": "stdout",
     "output_type": "stream",
     "text": [
      "Number of credited roles in the silent 1921 version of 'Hamlet': 9\n"
     ]
    }
   ],
   "source": [
    "import pandas as pd\n",
    "\n",
    "# Read the CSV file containing cast information into a Pandas dataframe (if not already done)\n",
    "cast_df = pd.read_csv('cast.csv')\n",
    "\n",
    "# Filter the dataframe to include only the cast of the silent 1921 version of \"Hamlet\"\n",
    "hamlet_1921_cast = cast_df[(cast_df['title'] == 'Hamlet') & (cast_df['year'] == 1921)]\n",
    "\n",
    "# Count the number of credited roles in the silent 1921 version of \"Hamlet\"\n",
    "num_roles_hamlet_1921 = len(hamlet_1921_cast)\n",
    "\n",
    "print(\"Number of credited roles in the silent 1921 version of 'Hamlet':\", num_roles_hamlet_1921)\n"
   ]
  },
  {
   "cell_type": "code",
   "execution_count": 31,
   "id": "ec99978c",
   "metadata": {},
   "outputs": [
    {
     "name": "stdout",
     "output_type": "stream",
     "text": [
      "Number of credited roles in Branagh's 1996 'Hamlet': 54\n"
     ]
    }
   ],
   "source": [
    "import pandas as pd\n",
    "\n",
    "# Read the CSV file containing cast information into a Pandas dataframe (if not already done)\n",
    "cast_df = pd.read_csv('cast.csv')\n",
    "\n",
    "# Filter the dataframe to include only the cast of Kenneth Branagh's 1996 version of \"Hamlet\"\n",
    "branagh_hamlet_cast = cast_df[(cast_df['title'] == 'Hamlet') & (cast_df['year'] == 1996)]\n",
    "\n",
    "# Count the number of credited roles in Branagh's 1996 version of \"Hamlet\"\n",
    "num_roles_branagh_hamlet = len(branagh_hamlet_cast)\n",
    "\n",
    "print(\"Number of credited roles in Branagh's 1996 'Hamlet':\", num_roles_branagh_hamlet)\n"
   ]
  },
  {
   "cell_type": "code",
   "execution_count": 32,
   "id": "ac579f73",
   "metadata": {},
   "outputs": [
    {
     "name": "stdout",
     "output_type": "stream",
     "text": [
      "Number of 'Hamlet' roles listed in all film credits through history: 342\n"
     ]
    }
   ],
   "source": [
    "import pandas as pd\n",
    "\n",
    "# Read the CSV file containing cast information into a Pandas dataframe (if not already done)\n",
    "cast_df = pd.read_csv('cast.csv')\n",
    "\n",
    "# Filter the dataframe to include only the cast of all versions of \"Hamlet\"\n",
    "hamlet_roles = cast_df[cast_df['title'] == 'Hamlet']\n",
    "\n",
    "# Count the number of \"Hamlet\" roles in all film credits through history\n",
    "num_hamlet_roles = len(hamlet_roles)\n",
    "\n",
    "print(\"Number of 'Hamlet' roles listed in all film credits through history:\", num_hamlet_roles)\n"
   ]
  },
  {
   "cell_type": "code",
   "execution_count": 33,
   "id": "ff84e089",
   "metadata": {},
   "outputs": [
    {
     "name": "stdout",
     "output_type": "stream",
     "text": [
      "Number of people who have played the role of 'Ophelia': 115\n"
     ]
    }
   ],
   "source": [
    "import pandas as pd\n",
    "\n",
    "# Read the CSV file containing cast information into a Pandas dataframe (if not already done)\n",
    "cast_df = pd.read_csv('cast.csv')\n",
    "\n",
    "# Filter the dataframe to include only actors who played the role of \"Ophelia\"\n",
    "ophelia_actors = cast_df[cast_df['character'] == 'Ophelia']\n",
    "\n",
    "# Count the number of people who have played the role of \"Ophelia\"\n",
    "num_ophelia_actors = len(ophelia_actors['name'].unique())\n",
    "\n",
    "print(\"Number of people who have played the role of 'Ophelia':\", num_ophelia_actors)\n"
   ]
  },
  {
   "cell_type": "code",
   "execution_count": 34,
   "id": "c0157b11",
   "metadata": {},
   "outputs": [
    {
     "name": "stdout",
     "output_type": "stream",
     "text": [
      "Number of people who have played a role called 'The Dude': 19\n"
     ]
    }
   ],
   "source": [
    "import pandas as pd\n",
    "\n",
    "# Read the CSV file containing cast information into a Pandas dataframe (if not already done)\n",
    "cast_df = pd.read_csv('cast.csv')\n",
    "\n",
    "# Filter the dataframe to include only actors who played a role called \"The Dude\"\n",
    "the_dude_actors = cast_df[cast_df['character'] == 'The Dude']\n",
    "\n",
    "# Count the number of people who have played a role called \"The Dude\"\n",
    "num_the_dude_actors = len(the_dude_actors['name'].unique())\n",
    "\n",
    "print(\"Number of people who have played a role called 'The Dude':\", num_the_dude_actors)\n"
   ]
  },
  {
   "cell_type": "code",
   "execution_count": 35,
   "id": "02c54f0e",
   "metadata": {},
   "outputs": [
    {
     "name": "stdout",
     "output_type": "stream",
     "text": [
      "Number of people who have played a role called 'The Stranger': 202\n"
     ]
    }
   ],
   "source": [
    "import pandas as pd\n",
    "\n",
    "# Read the CSV file containing cast information into a Pandas dataframe (if not already done)\n",
    "cast_df = pd.read_csv('cast.csv')\n",
    "\n",
    "# Filter the dataframe to include only actors who played a role called \"The Stranger\"\n",
    "the_stranger_actors = cast_df[cast_df['character'] == 'The Stranger']\n",
    "\n",
    "# Count the number of people who have played a role called \"The Stranger\"\n",
    "num_the_stranger_actors = len(the_stranger_actors['name'].unique())\n",
    "\n",
    "print(\"Number of people who have played a role called 'The Stranger':\", num_the_stranger_actors)\n"
   ]
  },
  {
   "cell_type": "code",
   "execution_count": 36,
   "id": "754789b9",
   "metadata": {},
   "outputs": [
    {
     "name": "stdout",
     "output_type": "stream",
     "text": [
      "Number of roles played by Sidney Poitier throughout his career: 43\n"
     ]
    }
   ],
   "source": [
    "import pandas as pd\n",
    "\n",
    "# Read the CSV file containing cast information into a Pandas dataframe (if not already done)\n",
    "cast_df = pd.read_csv('cast.csv')\n",
    "\n",
    "# Filter the dataframe to include only roles played by Sidney Poitier\n",
    "sidney_poitier_roles = cast_df[cast_df['name'] == 'Sidney Poitier']\n",
    "\n",
    "# Count the number of roles played by Sidney Poitier throughout his career\n",
    "num_sidney_poitier_roles = len(sidney_poitier_roles)\n",
    "\n",
    "print(\"Number of roles played by Sidney Poitier throughout his career:\", num_sidney_poitier_roles)\n"
   ]
  },
  {
   "cell_type": "code",
   "execution_count": 37,
   "id": "1641ab27",
   "metadata": {},
   "outputs": [
    {
     "name": "stdout",
     "output_type": "stream",
     "text": [
      "Number of roles played by Judi Dench: 55\n"
     ]
    }
   ],
   "source": [
    "import pandas as pd\n",
    "\n",
    "# Read the CSV file containing cast information into a Pandas dataframe (if not already done)\n",
    "cast_df = pd.read_csv('cast.csv')\n",
    "\n",
    "# Filter the dataframe to include only roles played by Judi Dench\n",
    "judi_dench_roles = cast_df[cast_df['name'] == 'Judi Dench']\n",
    "\n",
    "# Count the number of roles played by Judi Dench\n",
    "num_judi_dench_roles = len(judi_dench_roles)\n",
    "\n",
    "print(\"Number of roles played by Judi Dench:\", num_judi_dench_roles)\n"
   ]
  },
  {
   "cell_type": "code",
   "execution_count": 38,
   "id": "1abbdfd4",
   "metadata": {},
   "outputs": [
    {
     "name": "stdout",
     "output_type": "stream",
     "text": [
      "        year             title\n",
      "871423  1940  My Favorite Wife\n",
      "871433  1941    Penny Serenade\n"
     ]
    }
   ],
   "source": [
    "import pandas as pd\n",
    "\n",
    "# Read the CSV file containing cast information into a Pandas dataframe (if not already done)\n",
    "cast_df = pd.read_csv('cast.csv')\n",
    "\n",
    "# Filter the dataframe to include only supporting roles (n=2) played by Cary Grant in the 1940s\n",
    "cary_grant_supporting_roles_1940s = cast_df[(cast_df['name'] == 'Cary Grant') & (cast_df['n'] == 2) & (cast_df['year'] >= 1940) & (cast_df['year'] <= 1949)]\n",
    "\n",
    "# Sort the filtered dataframe by year\n",
    "cary_grant_supporting_roles_1940s_sorted = cary_grant_supporting_roles_1940s.sort_values(by='year')\n",
    "\n",
    "# Display the supporting roles played by Cary Grant in the 1940s in order by year\n",
    "print(cary_grant_supporting_roles_1940s_sorted[['year', 'title']])\n"
   ]
  },
  {
   "cell_type": "code",
   "execution_count": 39,
   "id": "390295b8",
   "metadata": {},
   "outputs": [
    {
     "name": "stdout",
     "output_type": "stream",
     "text": [
      "        year                                 title\n",
      "871448  1940               The Howards of Virginia\n",
      "871407  1940                       His Girl Friday\n",
      "871450  1940                The Philadelphia Story\n",
      "871438  1941                             Suspicion\n",
      "871452  1942                  The Talk of the Town\n",
      "871429  1942                 Once Upon a Honeymoon\n",
      "871398  1943                     Destination Tokyo\n",
      "871422  1943                             Mr. Lucky\n",
      "871430  1944                      Once Upon a Time\n",
      "871390  1944                  Arsenic and Old Lace\n",
      "871425  1944             None But the Lonely Heart\n",
      "871424  1946                         Night and Day\n",
      "871427  1946                             Notorious\n",
      "871444  1947      The Bachelor and the Bobby-Soxer\n",
      "871445  1947                     The Bishop's Wife\n",
      "871421  1948  Mr. Blandings Builds His Dream House\n",
      "871402  1948          Every Girl Should Be Married\n",
      "871411  1949                I Was a Male War Bride\n"
     ]
    }
   ],
   "source": [
    "import pandas as pd\n",
    "\n",
    "# Read the CSV file containing cast information into a Pandas dataframe (if not already done)\n",
    "cast_df = pd.read_csv('cast.csv')\n",
    "\n",
    "# Filter the dataframe to include only leading roles (n=1) played by Cary Grant in the 1940s\n",
    "cary_grant_leading_roles_1940s = cast_df[(cast_df['name'] == 'Cary Grant') & (cast_df['n'] == 1) & (cast_df['year'] >= 1940) & (cast_df['year'] <= 1949)]\n",
    "\n",
    "# Sort the filtered dataframe by year\n",
    "cary_grant_leading_roles_1940s_sorted = cary_grant_leading_roles_1940s.sort_values(by='year')\n",
    "\n",
    "# Display the leading roles played by Cary Grant in the 1940s in order by year\n",
    "print(cary_grant_leading_roles_1940s_sorted[['year', 'title']])\n"
   ]
  },
  {
   "cell_type": "code",
   "execution_count": 40,
   "id": "7c0edde0",
   "metadata": {},
   "outputs": [
    {
     "name": "stdout",
     "output_type": "stream",
     "text": [
      "Number of roles available for actors in the 1950s: 215471\n"
     ]
    }
   ],
   "source": [
    "import pandas as pd\n",
    "\n",
    "# Read the CSV file containing cast information into a Pandas dataframe (if not already done)\n",
    "cast_df = pd.read_csv('cast.csv')\n",
    "\n",
    "# Filter the dataframe to include only roles from the 1950s\n",
    "roles_in_1950s = cast_df[(cast_df['year'] >= 1950) & (cast_df['year'] <= 1959)]\n",
    "\n",
    "# Count the number of roles available for actors in the 1950s\n",
    "num_roles_in_1950s = len(roles_in_1950s)\n",
    "\n",
    "print(\"Number of roles available for actors in the 1950s:\", num_roles_in_1950s)\n"
   ]
  },
  {
   "cell_type": "code",
   "execution_count": 41,
   "id": "38cdce8a",
   "metadata": {},
   "outputs": [
    {
     "name": "stdout",
     "output_type": "stream",
     "text": [
      "Number of roles available for actresses in the 1950s: 57733\n"
     ]
    }
   ],
   "source": [
    "import pandas as pd\n",
    "\n",
    "# Read the CSV file containing cast information into a Pandas dataframe (if not already done)\n",
    "cast_df = pd.read_csv('cast.csv')\n",
    "\n",
    "# Filter the dataframe to include only roles for actresses from the 1950s\n",
    "actress_roles_in_1950s = cast_df[(cast_df['year'] >= 1950) & (cast_df['year'] <= 1959) & (cast_df['type'] == 'actress')]\n",
    "\n",
    "# Count the number of roles available for actresses in the 1950s\n",
    "num_actress_roles_in_1950s = len(actress_roles_in_1950s)\n",
    "\n",
    "print(\"Number of roles available for actresses in the 1950s:\", num_actress_roles_in_1950s)\n"
   ]
  },
  {
   "cell_type": "code",
   "execution_count": 42,
   "id": "dfe16967",
   "metadata": {},
   "outputs": [
    {
     "name": "stdout",
     "output_type": "stream",
     "text": [
      "Number of leading roles (n=1) available from the beginning of film history through 1980: 65140\n"
     ]
    }
   ],
   "source": [
    "import pandas as pd\n",
    "\n",
    "# Read the CSV file containing cast information into a Pandas dataframe (if not already done)\n",
    "cast_df = pd.read_csv('cast.csv')\n",
    "\n",
    "# Filter the dataframe to include only leading roles (n=1) from the beginning of film history through 1980\n",
    "leading_roles_until_1980 = cast_df[(cast_df['n'] == 1) & (cast_df['year'] <= 1980)]\n",
    "\n",
    "# Count the number of leading roles available from the beginning of film history through 1980\n",
    "num_leading_roles_until_1980 = len(leading_roles_until_1980)\n",
    "\n",
    "print(\"Number of leading roles (n=1) available from the beginning of film history through 1980:\", num_leading_roles_until_1980)\n"
   ]
  },
  {
   "cell_type": "code",
   "execution_count": 43,
   "id": "527fc9f9",
   "metadata": {},
   "outputs": [
    {
     "name": "stdout",
     "output_type": "stream",
     "text": [
      "Number of non-leading roles (n is not equal to 1) available from the beginning of film history through 1980: 1117667\n"
     ]
    }
   ],
   "source": [
    "import pandas as pd\n",
    "\n",
    "# Read the CSV file containing cast information into a Pandas dataframe (if not already done)\n",
    "cast_df = pd.read_csv('cast.csv')\n",
    "\n",
    "# Filter the dataframe to include only non-leading roles (n is not equal to 1) from the beginning of film history through 1980\n",
    "non_leading_roles_until_1980 = cast_df[(cast_df['n'] != 1) & (cast_df['year'] <= 1980)]\n",
    "\n",
    "# Count the number of non-leading roles available from the beginning of film history through 1980\n",
    "num_non_leading_roles_until_1980 = len(non_leading_roles_until_1980)\n",
    "\n",
    "print(\"Number of non-leading roles (n is not equal to 1) available from the beginning of film history through 1980:\", num_non_leading_roles_until_1980)\n"
   ]
  },
  {
   "cell_type": "code",
   "execution_count": 44,
   "id": "2af93a19",
   "metadata": {},
   "outputs": [
    {
     "name": "stdout",
     "output_type": "stream",
     "text": [
      "Number of roles through 1980 without a numeric 'n' rank: 448347\n"
     ]
    }
   ],
   "source": [
    "import pandas as pd\n",
    "\n",
    "# Read the CSV file containing cast information into a Pandas dataframe (if not already done)\n",
    "cast_df = pd.read_csv('cast.csv')\n",
    "\n",
    "# Filter the dataframe to include only roles through 1980 with no numeric \"n\" rank\n",
    "roles_without_n_rank_until_1980 = cast_df[(cast_df['n'].isnull()) & (cast_df['year'] <= 1980)]\n",
    "\n",
    "# Count the number of roles through 1980 that did not have a numeric \"n\" rank\n",
    "num_roles_without_n_rank_until_1980 = len(roles_without_n_rank_until_1980)\n",
    "\n",
    "print(\"Number of roles through 1980 without a numeric 'n' rank:\", num_roles_without_n_rank_until_1980)\n"
   ]
  },
  {
   "cell_type": "code",
   "execution_count": null,
   "id": "fde04305",
   "metadata": {},
   "outputs": [],
   "source": []
  }
 ],
 "metadata": {
  "kernelspec": {
   "display_name": "Python 3 (ipykernel)",
   "language": "python",
   "name": "python3"
  },
  "language_info": {
   "codemirror_mode": {
    "name": "ipython",
    "version": 3
   },
   "file_extension": ".py",
   "mimetype": "text/x-python",
   "name": "python",
   "nbconvert_exporter": "python",
   "pygments_lexer": "ipython3",
   "version": "3.11.4"
  }
 },
 "nbformat": 4,
 "nbformat_minor": 5
}
